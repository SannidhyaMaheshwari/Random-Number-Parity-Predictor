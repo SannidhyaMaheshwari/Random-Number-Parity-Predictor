{
  "nbformat": 4,
  "nbformat_minor": 0,
  "metadata": {
    "colab": {
      "provenance": []
    },
    "kernelspec": {
      "name": "python3",
      "display_name": "Python 3"
    },
    "language_info": {
      "name": "python"
    }
  },
  "cells": [
    {
      "cell_type": "markdown",
      "source": [
        "# **# Statistical Tests for PRNG Evaluation**\n",
        "**Frequency (Monobit) Test**\n",
        "\n",
        "Checks if the number of 0s and 1s in the binary representation are approximately equal.\n",
        "\n",
        "**Runs Test**\n",
        "\n",
        "Checks if sequences of consecutive 0s and 1s (runs) occur with expected frequency.\n",
        "\n",
        "**Autocorrelation Test**\n",
        "\n",
        "Measures correlation between a number and its previous values (lag-based test).\n",
        "\n",
        "**Chi-Square Test**\n",
        "\n",
        "Compares expected and observed frequency distributions of numbers.\n",
        "\n",
        "**Kolmogorov-Smirnov Test**\n",
        "\n",
        "Compares the empirical distribution of generated numbers with a uniform distribution.\n",
        "\n",
        "**Spectral Test (Fourier Transform)**\n",
        "\n",
        "Checks for periodic patterns in the generated sequence.\n",
        "\n",
        "**Dieharder & NIST Test Suites**\n",
        "\n",
        "Advanced test suites for randomness validation."
      ],
      "metadata": {
        "id": "J4Is092VM415"
      }
    },
    {
      "cell_type": "code",
      "execution_count": null,
      "metadata": {
        "id": "xuu5yI1PM1eq"
      },
      "outputs": [],
      "source": [
        "\n",
        "import numpy as np\n",
        "import pandas as pd# Statistical Tests for PRNG Evaluation\n",
        "Frequency (Monobit) Test\n",
        "\n",
        "Checks if the number of 0s and 1s in the binary representation are approximately equal.\n",
        "\n",
        "Runs Test\n",
        "\n",
        "Checks if sequences of consecutive 0s and 1s (runs) occur with expected frequency.\n",
        "\n",
        "Autocorrelation Test\n",
        "\n",
        "Measures correlation between a number and its previous values (lag-based test).\n",
        "\n",
        "Chi-Square Test\n",
        "\n",
        "Compares expected and observed frequency distributions of numbers.\n",
        "\n",
        "Kolmogorov-Smirnov Test\n",
        "\n",
        "Compares the empirical distribution of generated numbers with a uniform distribution.\n",
        "\n",
        "Spectral Test (Fourier Transform)\n",
        "\n",
        "Checks for periodic patterns in the generated sequence.\n",
        "\n",
        "Dieharder & NIST Test Suites\n",
        "\n",
        "Advanced test suites for randomness validation.\n",
        "\n",
        "\n",
        "[ ]\n",
        "\n",
        "\n",
        "# Load the dataset\n",
        "file_path = \"random_numbers.csv\"\n",
        "data = pd.read_csv(file_path, header=None, names=[\"number\"])\n",
        "\n",
        "# Convert to 32-bit unsigned integers\n",
        "numbers = data[\"number\"].astype(np.uint32)\n"
      ]
    },
    {
      "cell_type": "code",
      "source": [
        "def frequency_monobit_test(numbers):\n",
        "    bitstream = ''.join(f'{num:032b}' for num in numbers)  # Convert numbers to binary\n",
        "    ones = bitstream.count('1')\n",
        "    zeros = bitstream.count('0')\n",
        "    total_bits = len(bitstream)\n",
        "\n",
        "    p_value = abs(ones - zeros) / total_bits  # Deviation from uniformity\n",
        "    print(f\"Frequency Test: Ones = {ones}, Zeros = {zeros}, P-value = {p_value}\")\n",
        "\n",
        "\n"
      ],
      "metadata": {
        "id": "rJjW-S0FNg4l"
      },
      "execution_count": null,
      "outputs": []
    },
    {
      "cell_type": "code",
      "source": [
        "from statsmodels.sandbox.stats.runs import runstest_1samp\n",
        "\n",
        "def runs_test(numbers):\n",
        "    bitstream = np.array([int(b) for num in numbers for b in f'{num:032b}'])  # Convert to binary\n",
        "    z_stat, p_value = runstest_1samp(bitstream, correction=False)\n",
        "    print(f\"Runs Test: Z-Stat = {z_stat}, P-Value = {p_value}\")\n",
        "\n",
        "\n"
      ],
      "metadata": {
        "id": "xbw24ZWkNiPI"
      },
      "execution_count": null,
      "outputs": []
    },
    {
      "cell_type": "code",
      "source": [
        "from scipy.stats import chisquare\n",
        "\n",
        "def chi_square_test(numbers, bins=256):\n",
        "    observed_freq, _ = np.histogram(numbers, bins=bins, range=(0, 2**32))\n",
        "    expected_freq = [len(numbers) / bins] * bins  # Expected uniform distribution\n",
        "    chi_stat, p_value = chisquare(observed_freq, expected_freq)\n",
        "    print(f\"Chi-Square Test: Chi-Stat = {chi_stat}, P-Value = {p_value}\")\n",
        "\n",
        "\n"
      ],
      "metadata": {
        "id": "X7jfAY4wNjk6"
      },
      "execution_count": null,
      "outputs": []
    },
    {
      "cell_type": "code",
      "source": [
        "from scipy.stats import kstest\n",
        "\n",
        "def ks_test(numbers):\n",
        "    normalized_numbers = numbers / (2**32)  # Scale to [0,1]\n",
        "    ks_stat, p_value = kstest(normalized_numbers, 'uniform')\n",
        "    print(f\"Kolmogorov-Smirnov Test: KS-Stat = {ks_stat}, P-Value = {p_value}\")\n",
        "\n"
      ],
      "metadata": {
        "id": "W1UjmSVXNk7v"
      },
      "execution_count": null,
      "outputs": []
    },
    {
      "cell_type": "code",
      "source": [
        "import matplotlib.pyplot as plt\n",
        "\n",
        "def autocorrelation_test(numbers, lag=1):\n",
        "    correlation = np.corrcoef(numbers[:-lag], numbers[lag:])[0, 1]\n",
        "    print(f\"Autocorrelation Test (Lag {lag}): Correlation = {correlation}\")\n",
        "\n",
        "\n"
      ],
      "metadata": {
        "id": "-mo3nfBONl3p"
      },
      "execution_count": null,
      "outputs": []
    },
    {
      "cell_type": "code",
      "source": [
        "frequency_monobit_test(numbers)\n",
        "runs_test(numbers)\n",
        "chi_square_test(numbers)\n",
        "ks_test(numbers)\n",
        "autocorrelation_test(numbers, lag=1)"
      ],
      "metadata": {
        "colab": {
          "base_uri": "https://localhost:8080/"
        },
        "id": "yvyg_dGhP51V",
        "outputId": "d78306bb-5c3a-4e12-c515-5af6aae19fbe"
      },
      "execution_count": null,
      "outputs": [
        {
          "output_type": "stream",
          "name": "stdout",
          "text": [
            "Frequency Test: Ones = 30999934, Zeros = 33000066, P-value = 0.0312520625\n",
            "Runs Test: Z-Stat = 8.430265117485751, P-Value = 3.44882967659403e-17\n",
            "Chi-Square Test: Chi-Stat = 2000294.371328, P-Value = 0.0\n",
            "Kolmogorov-Smirnov Test: KS-Stat = 0.5000008835922927, P-Value = 0.0\n",
            "Autocorrelation Test (Lag 1): Correlation = 0.0005773627760403741\n"
          ]
        }
      ]
    }
  ]
}